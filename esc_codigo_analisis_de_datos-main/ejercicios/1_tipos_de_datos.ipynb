{
 "cells": [
  {
   "cell_type": "markdown",
   "metadata": {},
   "source": [
    "# Ejercicios de Tipos de Datos Simples"
   ]
  },
  {
   "cell_type": "markdown",
   "metadata": {},
   "source": [
    "### Ejercicio 1\n",
    "Escribir un programa que muestre por pantalla la cadena <span style=\"color:#66D9EF\">¡Hola Mundo!</span>."
   ]
  },
  {
   "cell_type": "code",
   "execution_count": 1,
   "metadata": {},
   "outputs": [
    {
     "name": "stdout",
     "output_type": "stream",
     "text": [
      "Hola mundo\n"
     ]
    }
   ],
   "source": [
    "# Solución\n",
    "print(\"Hola mundo\")"
   ]
  },
  {
   "cell_type": "markdown",
   "metadata": {},
   "source": [
    "### Ejercicio 2\n",
    "Escribir un programa que almacene la cadena <span style=\"color:#66D9EF\">¡Hola Mundo!</span> en una variable y luego muestre por pantalla el contenido de la variable"
   ]
  },
  {
   "cell_type": "code",
   "execution_count": 2,
   "metadata": {},
   "outputs": [
    {
     "name": "stdout",
     "output_type": "stream",
     "text": [
      "¡HolaMundo!\n"
     ]
    }
   ],
   "source": [
    "# Solución\n",
    "saludo = \"¡HolaMundo!\"\n",
    "print(saludo)"
   ]
  },
  {
   "cell_type": "markdown",
   "metadata": {},
   "source": [
    "### Ejercicio 3\n",
    "Escribir un programa que pregunte el nombre del usuario en la consola y después de que el usuario lo introduzca muestre por pantalla la cadena <span style=\"color:#66D9EF \">¡Hola \\<nombre\\>!</span>, donde <span style=\"color:#66D9EF\">\\<nombre\\></span> es el nombre que el usuario haya introducido."
   ]
  },
  {
   "cell_type": "code",
   "execution_count": 1,
   "metadata": {},
   "outputs": [
    {
     "name": "stdout",
     "output_type": "stream",
     "text": [
      "¡Hola Jorge !\n"
     ]
    }
   ],
   "source": [
    "# Solución\n",
    "\n",
    "nombre = input(\"¿Cual es tu nombre: \\n\")\n",
    "print(\"¡Hola\", nombre,\"!\")"
   ]
  },
  {
   "cell_type": "markdown",
   "metadata": {},
   "source": [
    "### Ejercicio 4\n",
    "Escribir un programa que muestre por pantalla el resultado de la siguiente operación aritmética:\n",
    "$$ \\left(\\frac{3+2}{2*5}\\right)^2$$"
   ]
  },
  {
   "cell_type": "code",
   "execution_count": 3,
   "metadata": {},
   "outputs": [
    {
     "name": "stdout",
     "output_type": "stream",
     "text": [
      "0.25\n"
     ]
    }
   ],
   "source": [
    "# solución\n",
    "operacion = ((3+2)/(2*5))**2\n",
    "print(operacion)"
   ]
  },
  {
   "cell_type": "markdown",
   "metadata": {},
   "source": [
    "### Ejercicio 5\n",
    "Escribir un programa que pregunte al usuario por el número de horas trabajadas y el coste por hora. Después debe mostrar por pantalla la paga que le corresponde."
   ]
  },
  {
   "cell_type": "code",
   "execution_count": 4,
   "metadata": {},
   "outputs": [
    {
     "name": "stdout",
     "output_type": "stream",
     "text": [
      "Paga correspondiente: 1000\n"
     ]
    }
   ],
   "source": [
    "# solución\n",
    "horas = int(input(\"Ingresa las horas trabajadas:\"))\n",
    "coste = int(input(\"Coste por hora\"))\n",
    "\n",
    "print(\"Paga correspondiente:\", horas * coste)"
   ]
  },
  {
   "cell_type": "markdown",
   "metadata": {},
   "source": [
    "### Ejercicio 6\n",
    "Escribir un programa que lea un entero positivo, _n_, introducido por el usuario y después muestre en pantalla la suma de todos los enteros desde 1 hasta _n_ . La suma de los *n* primeros enteros positivos puede ser calculada de la siguiente forma:  \n",
    "$$suma = \\frac{n(n+1)}{2}$$"
   ]
  },
  {
   "cell_type": "code",
   "execution_count": 12,
   "metadata": {},
   "outputs": [
    {
     "name": "stdout",
     "output_type": "stream",
     "text": [
      "La suma de los 10 primeros enteros es: 55.0\n"
     ]
    }
   ],
   "source": [
    "# solución\n",
    "n = int(input(\"Ingresa un numero entero positivo:\"))\n",
    "suma = 0\n",
    "if n > 0:\n",
    "    suma = (n * (n+1))/2\n",
    "    print(\"La suma de los\", n, \"primeros enteros es:\", suma)\n",
    "else:\n",
    "    print(\"El numero tiene que ser positivo\")"
   ]
  },
  {
   "cell_type": "markdown",
   "metadata": {},
   "source": [
    "### Ejercicio 7\n",
    "Escribir un programa que pida al usuario su peso (en kg) y estatura (en metros), calcule el índice de masa corporal y lo almacene en una variable, y muestre por pantalla la frase Tu índice de masa corporal es <span style=\"color:#66D9EF\">imc</span> donde <span style=\"color:#66D9EF\">imc</span> es el índice de masa corporal calculado redondeado con dos decimales."
   ]
  },
  {
   "cell_type": "code",
   "execution_count": 15,
   "metadata": {},
   "outputs": [
    {
     "name": "stdout",
     "output_type": "stream",
     "text": [
      "El imc es: 22.15\n"
     ]
    }
   ],
   "source": [
    "# solución\n",
    "peso = int(input(\"Ingresa tu peso en KG:\"))\n",
    "estatura = float(input(\"Ingresa tu estatura en Metros:\"))\n",
    "\n",
    "imc = round((peso / (estatura**2)), 2)\n",
    "\n",
    "print (\"El imc es:\", imc)"
   ]
  },
  {
   "cell_type": "markdown",
   "metadata": {},
   "source": [
    "### Ejercicio 8\n",
    "Escribir un programa que pida al usuario dos números enteros y muestre por pantalla la <span style=\"color:#66D9EF \">n</span> entre <span style=\"color:#66D9EF \">m</span> da un cociente <span style=\"color:#66D9EF \">c</span> y un resto <span style=\"color:#66D9EF \">r</span> donde <span style=\"color:#66D9EF \">n y m</span> son los números introducidos por el usuario, y <span style=\"color:#66D9EF \">c y r</span> son el cociente y el resto de la división entera respectivamente."
   ]
  },
  {
   "cell_type": "code",
   "execution_count": 17,
   "metadata": {},
   "outputs": [
    {
     "name": "stdout",
     "output_type": "stream",
     "text": [
      "El numero 50 entre 5 da un cociente 10.0 y un resto 0\n"
     ]
    }
   ],
   "source": [
    "# solución\n",
    "n = int(input(\"Ingresa a n\"))\n",
    "m = int(input(\"Ingresa a m\"))\n",
    "\n",
    "c = n / m\n",
    "r = n % m\n",
    "\n",
    "print(\"El numero\", n, \"entre\", m, \"da un cociente\", c, \"y un resto\", r)\n"
   ]
  },
  {
   "cell_type": "markdown",
   "metadata": {},
   "source": [
    "### Ejercicio 9\n",
    "Escribir un programa que pregunte al usuario una cantidad a invertir, el interés anual y el número de años, y muestre por pantalla el capital obtenido en la inversión."
   ]
  },
  {
   "cell_type": "code",
   "execution_count": 19,
   "metadata": {},
   "outputs": [
    {
     "name": "stdout",
     "output_type": "stream",
     "text": [
      "Capital obtenido: 2613.92\n"
     ]
    }
   ],
   "source": [
    "# Solución\n",
    "cantidad = float(input(\"Ingresa la cantidad a invertir:\"))\n",
    "interes = float(input(\"Ingresa el interes anual:\"))\n",
    "anios = int(input(\"Ingresa los años:\"))\n",
    "\n",
    "capital =  cantidad * (interes / 100 + 1)**anios\n",
    "\n",
    "print(\"Capital obtenido:\", round(capital,2))"
   ]
  },
  {
   "cell_type": "markdown",
   "metadata": {},
   "source": [
    "### Ejercicio 10\n",
    "Una juguetería tiene mucho éxito en dos de sus productos: payasos y muñecas. Suele hacer venta por correo y la empresa de logística les cobra por peso de cada paquete así que deben calcular el peso de los payasos y muñecas que saldrán en cada paquete a demanda. Cada payaso pesa 112 g y cada muñeca 75 g. Escribir un programa que lea el número de payasos y muñecas vendidos en el último pedido y calcule el peso total del paquete que será enviado."
   ]
  },
  {
   "cell_type": "code",
   "execution_count": 20,
   "metadata": {},
   "outputs": [
    {
     "name": "stdout",
     "output_type": "stream",
     "text": [
      "El peso total del pedido es de 785 gramos\n"
     ]
    }
   ],
   "source": [
    "# Solución\n",
    "pesoPayaso = 112\n",
    "pesoMuneca = 75\n",
    "\n",
    "nPayasos = int(input(\"Ingresa el numero de payasos:\"))\n",
    "nMuneca = int(input(\"Ingresa el numero de muñecas:\"))\n",
    "\n",
    "pesoTotal = (pesoPayaso * nPayasos) + (pesoMuneca * nMuneca)\n",
    "\n",
    "print(\"El peso total del pedido es de\", pesoTotal, \"gramos\")\n"
   ]
  },
  {
   "cell_type": "markdown",
   "metadata": {},
   "source": [
    "### Ejercicio 11\n",
    "Imagina que acabas de abrir una nueva cuenta de ahorros que te ofrece el 4% de interés al año. Estos ahorros se cobran hasta finales de año. Escribir un programa que comience leyendo la cantidad de dinero depositada en la cuenta de ahorros, introducida por el usuario. Después el programa debe calcular y mostrar por pantalla la cantidad de ahorros tras el primer, segundo y tercer años. Redondear cada cantidad a dos decimales."
   ]
  },
  {
   "cell_type": "code",
   "execution_count": 23,
   "metadata": {},
   "outputs": [
    {
     "name": "stdout",
     "output_type": "stream",
     "text": [
      "Cantidad ahorrada 1° año: 19200.0\n",
      "Cantidad ahorrada 2° año: 39200.0\n",
      "Cantidad ahorrada 3° año: 59200.0\n"
     ]
    }
   ],
   "source": [
    "# Solución\n",
    "cantidad = float(input(\"Ingresa la cantidad de dinero depositada\"))\n",
    "\n",
    "print(\"Cantidad ahorrada 1° año:\", round((cantidad - (cantidad * 0.04)),2))\n",
    "print(\"Cantidad ahorrada 2° año:\", round(((cantidad * 2) - (cantidad*0.04)),2))\n",
    "print(\"Cantidad ahorrada 3° año:\", round(((cantidad * 3) - (cantidad*0.04)),2))\n",
    "\n"
   ]
  },
  {
   "cell_type": "markdown",
   "metadata": {},
   "source": [
    "### Ejercicio 12\n",
    "Una panadería vende barras de pan a $3.49 cada una. El pan que no es el día tiene un descuento del 60%. Escribir un programa que comience leyendo el número de barras vendidas que no son del día. Después el programa debe mostrar el precio habitual de una barra de pan, el descuento que se le hace por no ser fresca y el coste final total."
   ]
  },
  {
   "cell_type": "code",
   "execution_count": 25,
   "metadata": {},
   "outputs": [
    {
     "name": "stdout",
     "output_type": "stream",
     "text": [
      "Precio por barra: 3.49 Descuento: 41.88 Coste final: 27.92\n"
     ]
    }
   ],
   "source": [
    "# Solución\n",
    "barras = int(input(\"Ingresa la cantidad de barras vendidas:\"))\n",
    "precio = 3.49\n",
    "descuento = (barras * 3.49) * 0.6\n",
    "coste = (barras * 3.49) - descuento\n",
    "\n",
    "print(\"Precio por barra:\", precio, \"Descuento:\", descuento, \"Coste final:\", round(coste,2))\n"
   ]
  }
 ],
 "metadata": {
  "kernelspec": {
   "display_name": "Python 3.10.5 64-bit (system)",
   "language": "python",
   "name": "python3"
  },
  "language_info": {
   "codemirror_mode": {
    "name": "ipython",
    "version": 3
   },
   "file_extension": ".py",
   "mimetype": "text/x-python",
   "name": "python",
   "nbconvert_exporter": "python",
   "pygments_lexer": "ipython3",
   "version": "3.10.5"
  },
  "orig_nbformat": 4,
  "vscode": {
   "interpreter": {
    "hash": "77abe205c72c096294b3a4a26264acecc5dbf8fb16ba6ed375b92e4d65784221"
   }
  }
 },
 "nbformat": 4,
 "nbformat_minor": 2
}
