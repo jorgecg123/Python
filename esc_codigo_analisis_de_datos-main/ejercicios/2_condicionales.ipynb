{
 "cells": [
  {
   "cell_type": "markdown",
   "metadata": {},
   "source": [
    "# Ejercicios: Estructura condicional"
   ]
  },
  {
   "cell_type": "markdown",
   "metadata": {},
   "source": [
    "### Ejercicio 1\n",
    "Escribir un programa que pregunte al usuario su edad y muestre por pantalla si es mayor de edad o no."
   ]
  },
  {
   "cell_type": "code",
   "execution_count": 5,
   "metadata": {},
   "outputs": [
    {
     "name": "stdout",
     "output_type": "stream",
     "text": [
      "Menor de edad\n"
     ]
    }
   ],
   "source": [
    "# Solución\n",
    "edad = int(input(\"Ingresa tu edad:\"))\n",
    "\n",
    "if edad >= 18 :\n",
    "    print(\"Mayor de edad\")\n",
    "else:\n",
    "    print(\"Menor de edad\")\n"
   ]
  },
  {
   "cell_type": "markdown",
   "metadata": {},
   "source": [
    "### Ejercicio 2\n",
    "Escribir un programa que almacene una <span style=\"color:#66D9EF\">contraseña</span> en una variable, pregunte al usuario por la <span style=\"color:#66D9EF\">contraseña</span> e imprima por pantalla si la <span style=\"color:#66D9EF\">contraseña</span> introducida por el usuario coincide con la guardada en la variable sin tener en cuenta mayúsculas y minúsculas."
   ]
  },
  {
   "cell_type": "code",
   "execution_count": 7,
   "metadata": {},
   "outputs": [
    {
     "name": "stdout",
     "output_type": "stream",
     "text": [
      "La contraseña coincide\n"
     ]
    }
   ],
   "source": [
    "# Solución\n",
    "\n",
    "contrasenia = \"123456\"\n",
    "\n",
    "code = input(\"Ingresa la contraseña\")\n",
    "\n",
    "if contrasenia == code.lower():\n",
    "    print(\"La contraseña coincide\")\n",
    "else:\n",
    "    print(\"La contraseña no coincide\")"
   ]
  },
  {
   "cell_type": "markdown",
   "metadata": {},
   "source": [
    "### Ejercicio 3\n",
    "Escribir un programa que pida al usuario dos números y muestre por pantalla su división. Si el divisor es cero el programa debe mostrar un error."
   ]
  },
  {
   "cell_type": "code",
   "execution_count": 9,
   "metadata": {},
   "outputs": [
    {
     "name": "stdout",
     "output_type": "stream",
     "text": [
      "La divison de 2 entre 5 es: 0.4\n"
     ]
    }
   ],
   "source": [
    "# Solución\n",
    "a=int(input(\"Ingresa dividendo:\"))\n",
    "b=int(input(\"Ingresa el divisor:\"))\n",
    "\n",
    "if b == 0:\n",
    "    print(\"Error: el divisor no puede ser 0\")\n",
    "else:\n",
    "    print(f'''La divison de {a} entre {b} es: {a/b}''')"
   ]
  },
  {
   "cell_type": "markdown",
   "metadata": {},
   "source": [
    "### Ejercicio 4\n",
    "Escribir un programa que pida al usuario un número entero y muestre por pantalla si es par o impar."
   ]
  },
  {
   "cell_type": "code",
   "execution_count": 11,
   "metadata": {},
   "outputs": [
    {
     "name": "stdout",
     "output_type": "stream",
     "text": [
      "21 es inpar\n"
     ]
    }
   ],
   "source": [
    "# Solución\n",
    "\n",
    "n = int(input(\"Ingresa un numero:\"))\n",
    "\n",
    "if n % 2 == 0:\n",
    "    print(n,\"es par\")\n",
    "else:\n",
    "    print(n,\"es inpar\")"
   ]
  },
  {
   "cell_type": "markdown",
   "metadata": {},
   "source": [
    "### Ejercicio 5\n",
    "Para pagar un determinado impuesto se debe ser mayor de 16 años y tener unos ingresos iguales o superiores a $5000 mensuales. Escribir un programa que pregunte al usuario su edad y sus ingresos mensuales y muestre por pantalla si el usuario tiene que pagar o no."
   ]
  },
  {
   "cell_type": "code",
   "execution_count": 13,
   "metadata": {},
   "outputs": [
    {
     "name": "stdout",
     "output_type": "stream",
     "text": [
      "No pagas el impueto\n"
     ]
    }
   ],
   "source": [
    "# Solución\n",
    "edad = int(input(\"Ingresa tu edad:\"))\n",
    "ingreso = float(input(\"Escribe tu ingreso mensual:\"))\n",
    "\n",
    "if edad > 16 and ingreso >= 5000.00:\n",
    "    print(\"Debes pagar el impueto\")\n",
    "else:\n",
    "    print(\"No pagas el impueto\")\n"
   ]
  },
  {
   "cell_type": "markdown",
   "metadata": {},
   "source": [
    "### Ejercicio 6\n",
    "Los alumnos de un curso se han dividido en dos grupos A y B de acuerdo al sexo y el nombre. El grupo A esta formado por las mujeres con un nombre anterior a la M y los hombres con un nombre posterior a la N y el grupo B por el resto. Escribir un programa que pregunte al usuario su nombre y sexo, y muestre por pantalla el grupo que le corresponde."
   ]
  },
  {
   "cell_type": "code",
   "execution_count": 2,
   "metadata": {},
   "outputs": [
    {
     "name": "stdout",
     "output_type": "stream",
     "text": [
      "Tu grupo asignado es el A\n"
     ]
    }
   ],
   "source": [
    "# Solución\n",
    "nombre = input(\"Ingresa tu nombre:\")\n",
    "sexo = input(\"Escribe F mujer o M para hombre:\")\n",
    "\n",
    "\n",
    "if nombre[0].upper() < 'M' and sexo.upper() == 'F':\n",
    "    print(\"Tu grupo asignado es el A\")\n",
    "elif nombre[0].upper() > 'N' and sexo.upper() == 'M':\n",
    "    print(\"Tu grupo asignado es el A\")\n",
    "else:\n",
    "    print(\"Tu grupo asignado es el B\")"
   ]
  },
  {
   "cell_type": "markdown",
   "metadata": {},
   "source": [
    "### Ejercicio 7\n",
    "En una determinada empresa, sus empleados son evaluados al final de cada año. Los puntos que pueden obtener en la evaluación comienzan en 0.0 y pueden ir aumentando, traduciéndose en mejores beneficios. Los puntos que pueden conseguir los empleados pueden ser 0.0, 0.4, 0.6 o más, pero no valores intermedios entre las cifras mencionadas. A continuación se muestra una tabla con los niveles correspondientes a cada puntuación. La cantidad de dinero conseguida en cada nivel es de $2,400 multiplicada por la puntuación del nivel.\n",
    "<center>\n",
    "\n",
    "|Nivel|Puntuación|\n",
    "|:-:|:-:|\n",
    "|Inaceptable|0.0|\n",
    "|Aceptable|0.4|\n",
    "|Meritorio|0.6 o más|\n",
    "\n",
    "</center>\n",
    "Escribir un programa que lea la puntuación del usuario e indique su nivel de rendimiento, así como la cantidad de dinero que recibirá el usuario."
   ]
  },
  {
   "cell_type": "code",
   "execution_count": 23,
   "metadata": {},
   "outputs": [
    {
     "name": "stdout",
     "output_type": "stream",
     "text": [
      "Tu nivel de rendimiento es: Meritorio\n",
      " Dinero a recibir:1680.0 \n"
     ]
    }
   ],
   "source": [
    "# Solución\n",
    "puntuacion = float(input(\"Ingresa tu puntuación:\"))\n",
    "\n",
    "cantidadBase = 2400\n",
    "cantidadFinal = 0\n",
    "nivel = \"\"\n",
    "\n",
    "if puntuacion == 0.0 :\n",
    "    nivel = \"Inaceptable\"\n",
    "    cantidadFinal = cantidadBase * 0.0\n",
    "elif puntuacion == 0.4:\n",
    "    nivel = \"Aceptable\"\n",
    "    cantidadFinal = cantidadBase * 0.4\n",
    "elif puntuacion >= 0.6:\n",
    "    nivel = \"Meritorio\"\n",
    "    cantidadFinal = cantidadBase * puntuacion\n",
    "else:\n",
    "    print(\"Puntuacion no aceptada\")\n",
    "    nivel = \"Indefinido\"\n",
    "print(f'''Tu nivel de rendimiento es: {nivel}\n",
    " Dinero a recibir:{cantidadFinal} ''')\n"
   ]
  },
  {
   "cell_type": "markdown",
   "metadata": {},
   "source": [
    "### Ejercicio 8\n",
    "Escribir un programa para una empresa que tiene salas de juegos para todas las edades y quiere calcular de forma automática el precio que debe cobrar a sus clientes por entrar. El programa debe preguntar al usuario la edad del cliente y mostrar el precio de la entrada. Si el cliente es menor de 4 años puede entrar gratis, si tiene entre 4 y 18 años debe pagar $5 y si es mayor de 18 años, $10."
   ]
  },
  {
   "cell_type": "code",
   "execution_count": 8,
   "metadata": {},
   "outputs": [
    {
     "name": "stdout",
     "output_type": "stream",
     "text": [
      "El cliente paga $10\n"
     ]
    }
   ],
   "source": [
    "# Solución\n",
    "edad = int(input(\"Edad del cliente:\"))\n",
    "\n",
    "\n",
    "if edad < 4 and edad >= 0:\n",
    "    print(\"El cliente entra gratis\")\n",
    "elif edad >= 4 and edad <= 18:\n",
    "    print(\"El cliente paga $5\")\n",
    "else:\n",
    "    print(\"El cliente paga $10\")"
   ]
  },
  {
   "cell_type": "markdown",
   "metadata": {},
   "source": [
    "### Ejercicio 9\n",
    "La pizzería Planeta ofrece pizzas vegetarianas y no vegetarianas a sus clientes. Los ingredientes para cada tipo de pizza aparecen a continuación.  \n",
    "\n",
    "* Vegetarianos: Pimiento y tofu.  \n",
    "* No vegetarianos: Peperoni, Jamón y Salmón.  \n",
    "\n",
    "Escribir un programa que pregunte al usuario si quiere una pizza vegetariana o no, y en función de su respuesta le muestre un menú con los ingredientes disponibles para que elija. Solo se puede eligir un ingrediente además de la mozzarella y el tomate que están en todas la pizzas. Al final se debe mostrar por pantalla si la pizza elegida es vegetariana o no y todos los ingredientes que lleva.\n",
    "\n",
    "\n"
   ]
  },
  {
   "cell_type": "code",
   "execution_count": 13,
   "metadata": {},
   "outputs": [
    {
     "name": "stdout",
     "output_type": "stream",
     "text": [
      "Ingredientes: Mozzarella, Tomate, Tofu\n"
     ]
    }
   ],
   "source": [
    "# Solución\n",
    "seleccion = input(\"Desea una pizza vegetariana? Escriba SI o NO:\")\n",
    "\n",
    "pizza = \"Ingredientes: Mozzarella, Tomate\"\n",
    "ingrediente = \"\"\n",
    "\n",
    "if seleccion.upper() == \"NO\":\n",
    "    seleccion = int(input(\"Ingrese el numero correspondiente a su ingrediente principal: 1: Peperoni 2: Jamón 3: Salmon\"))\n",
    "    if seleccion == 1:\n",
    "        ingrediente = \"Peperoni\"\n",
    "    elif seleccion == 2:\n",
    "        ingrediente = \"Jamón\"\n",
    "    elif seleccion == 3:\n",
    "        ingrediente = \"Salmon\"\n",
    "    else:\n",
    "        ingrediente = \"\"\n",
    "    pizza = pizza + \", \"+ ingrediente\n",
    "    print(pizza)\n",
    "elif seleccion.upper() == \"SI\":\n",
    "    seleccion = int(input(\"Ingrese el numero correspondiente a su ingrediente principal: 1: Pimiento 2: Tofu\"))\n",
    "    if seleccion == 1:\n",
    "        ingrediente = \"Pimiento\"\n",
    "    elif seleccion == 2:\n",
    "        ingrediente = \"Tofu\"\n",
    "    else:\n",
    "        ingrediente = \"\"\n",
    "    pizza = pizza + \", \"+ ingrediente\n",
    "    print(pizza)\n",
    "else:\n",
    "    print(\"No existe la seleccion\")\n"
   ]
  }
 ],
 "metadata": {
  "kernelspec": {
   "display_name": "Python 3.10.5 64-bit (system)",
   "language": "python",
   "name": "python3"
  },
  "language_info": {
   "codemirror_mode": {
    "name": "ipython",
    "version": 3
   },
   "file_extension": ".py",
   "mimetype": "text/x-python",
   "name": "python",
   "nbconvert_exporter": "python",
   "pygments_lexer": "ipython3",
   "version": "3.10.5"
  },
  "orig_nbformat": 4,
  "vscode": {
   "interpreter": {
    "hash": "77abe205c72c096294b3a4a26264acecc5dbf8fb16ba6ed375b92e4d65784221"
   }
  }
 },
 "nbformat": 4,
 "nbformat_minor": 2
}
