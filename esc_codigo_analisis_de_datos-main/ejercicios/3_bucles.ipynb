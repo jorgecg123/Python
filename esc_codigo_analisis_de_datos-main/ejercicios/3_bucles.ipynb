{
 "cells": [
  {
   "cell_type": "markdown",
   "metadata": {},
   "source": [
    "# Ejercicios: Estructuras iterativas\n",
    "\n"
   ]
  },
  {
   "cell_type": "markdown",
   "metadata": {},
   "source": [
    "### Ejercicio 1\n",
    "Calcular la media de los números pares e impares, sólo se ingresará diez números."
   ]
  },
  {
   "cell_type": "code",
   "execution_count": 12,
   "metadata": {},
   "outputs": [
    {
     "name": "stdout",
     "output_type": "stream",
     "text": [
      "La media de los numero pares es: 0, \n",
      "La media de los numero impares es: 3.0\n"
     ]
    }
   ],
   "source": [
    "# Solución\n",
    "pares = 0\n",
    "impares = 0\n",
    "aux = 0\n",
    "a = 0\n",
    "b = 0\n",
    "\n",
    "for i in range(0,10,+1):\n",
    "    aux = int(input(\"Ingresa el numero\"))\n",
    "    if aux % 2 == 0:\n",
    "        pares = pares + aux;\n",
    "        a = a+1\n",
    "    else:\n",
    "        impares = impares + aux\n",
    "        b = b+1\n",
    "if impares == 0:\n",
    "    print(f'''La media de los numero pares es: {pares/a}, \n",
    "La media de los numero impares es: 0''')\n",
    "elif pares == 0:\n",
    "    print(f'''La media de los numero pares es: 0, \n",
    "La media de los numero impares es: {impares/b}''')\n",
    "else:\n",
    "    print(f'''La media de los numero pares es: {pares/a}, \n",
    "La media de los numero impares es: {impares/b}''')\n"
   ]
  },
  {
   "cell_type": "markdown",
   "metadata": {},
   "source": [
    "### Ejercicio 2\n",
    "Calcular la suma de los n primeros números."
   ]
  },
  {
   "cell_type": "code",
   "execution_count": 8,
   "metadata": {},
   "outputs": [
    {
     "name": "stdout",
     "output_type": "stream",
     "text": [
      "la suma de los numero es: 43\n"
     ]
    }
   ],
   "source": [
    "# Solución\n",
    "n = int(input(\"Ingresa a n\"))\n",
    "suma = 0\n",
    "\n",
    "for i in range(0,n,+1):\n",
    "    suma = suma + int(input(\"Ingresa el numero\"))\n",
    "print(\"la suma de los numero es:\", suma)"
   ]
  },
  {
   "cell_type": "markdown",
   "metadata": {},
   "source": [
    "### Ejercicio 3\n",
    "Se quiere saber cuál es la ciudad con la población de más personas, son tres estados  con once ciudades, hacer un algoritmo que nos permita saber eso."
   ]
  },
  {
   "cell_type": "code",
   "execution_count": 9,
   "metadata": {},
   "outputs": [
    {
     "name": "stdout",
     "output_type": "stream",
     "text": [
      "Ingresa la poblacion del estado 0\n",
      "Ingresa la poblacion del estado 1\n",
      "Ingresa la poblacion del estado 2\n",
      "La ciudad con más poblacion del estado 1 es: 65, \n",
      "La ciudad con más poblacion del estado 2 es: 45645,\n",
      "La ciudad con más poblacion del estado 3 es: 45435\n"
     ]
    }
   ],
   "source": [
    "# Solución\n",
    "ciudad1=0\n",
    "ciudad2=0\n",
    "ciudad3=0\n",
    "auxiliar1=0\n",
    "auxiliar2=0\n",
    "\n",
    "for i in range(0,3,+1):\n",
    "    print(\"Ingresa la poblacion del estado\", i)\n",
    "    for j in range(0,11,+1):\n",
    "        auxiliar1 = int(input(f'''Ingresa la poblacion de la ciudad {j}'''))\n",
    "        if auxiliar1 > auxiliar2:\n",
    "            auxiliar2 = auxiliar1\n",
    "    if i == 0:\n",
    "        ciudad1 = auxiliar2\n",
    "    elif i == 1:\n",
    "        ciudad2 = auxiliar2\n",
    "    else:\n",
    "        ciudad3 = auxiliar2\n",
    "    auxiliar2 = 0\n",
    "\n",
    "print(f'''La ciudad con más poblacion del estado 1 es: {ciudad1}, \n",
    "La ciudad con más poblacion del estado 2 es: {ciudad2},\n",
    "La ciudad con más poblacion del estado 3 es: {ciudad3}''')"
   ]
  },
  {
   "cell_type": "markdown",
   "metadata": {},
   "source": [
    "### Ejercicio 4\n",
    "Imprimir las tablas de multiplicar de los números del uno al nueve."
   ]
  },
  {
   "cell_type": "code",
   "execution_count": 1,
   "metadata": {},
   "outputs": [
    {
     "name": "stdout",
     "output_type": "stream",
     "text": [
      "Tabla del 1:\n",
      "1 x 1: 1\n",
      "1 x 2: 2\n",
      "1 x 3: 3\n",
      "1 x 4: 4\n",
      "1 x 5: 5\n",
      "1 x 6: 6\n",
      "1 x 7: 7\n",
      "1 x 8: 8\n",
      "1 x 9: 9\n",
      "1 x 10: 10\n",
      "Tabla del 2:\n",
      "2 x 1: 2\n",
      "2 x 2: 4\n",
      "2 x 3: 6\n",
      "2 x 4: 8\n",
      "2 x 5: 10\n",
      "2 x 6: 12\n",
      "2 x 7: 14\n",
      "2 x 8: 16\n",
      "2 x 9: 18\n",
      "2 x 10: 20\n",
      "Tabla del 3:\n",
      "3 x 1: 3\n",
      "3 x 2: 6\n",
      "3 x 3: 9\n",
      "3 x 4: 12\n",
      "3 x 5: 15\n",
      "3 x 6: 18\n",
      "3 x 7: 21\n",
      "3 x 8: 24\n",
      "3 x 9: 27\n",
      "3 x 10: 30\n",
      "Tabla del 4:\n",
      "4 x 1: 4\n",
      "4 x 2: 8\n",
      "4 x 3: 12\n",
      "4 x 4: 16\n",
      "4 x 5: 20\n",
      "4 x 6: 24\n",
      "4 x 7: 28\n",
      "4 x 8: 32\n",
      "4 x 9: 36\n",
      "4 x 10: 40\n",
      "Tabla del 5:\n",
      "5 x 1: 5\n",
      "5 x 2: 10\n",
      "5 x 3: 15\n",
      "5 x 4: 20\n",
      "5 x 5: 25\n",
      "5 x 6: 30\n",
      "5 x 7: 35\n",
      "5 x 8: 40\n",
      "5 x 9: 45\n",
      "5 x 10: 50\n",
      "Tabla del 6:\n",
      "6 x 1: 6\n",
      "6 x 2: 12\n",
      "6 x 3: 18\n",
      "6 x 4: 24\n",
      "6 x 5: 30\n",
      "6 x 6: 36\n",
      "6 x 7: 42\n",
      "6 x 8: 48\n",
      "6 x 9: 54\n",
      "6 x 10: 60\n",
      "Tabla del 7:\n",
      "7 x 1: 7\n",
      "7 x 2: 14\n",
      "7 x 3: 21\n",
      "7 x 4: 28\n",
      "7 x 5: 35\n",
      "7 x 6: 42\n",
      "7 x 7: 49\n",
      "7 x 8: 56\n",
      "7 x 9: 63\n",
      "7 x 10: 70\n",
      "Tabla del 8:\n",
      "8 x 1: 8\n",
      "8 x 2: 16\n",
      "8 x 3: 24\n",
      "8 x 4: 32\n",
      "8 x 5: 40\n",
      "8 x 6: 48\n",
      "8 x 7: 56\n",
      "8 x 8: 64\n",
      "8 x 9: 72\n",
      "8 x 10: 80\n",
      "Tabla del 9:\n",
      "9 x 1: 9\n",
      "9 x 2: 18\n",
      "9 x 3: 27\n",
      "9 x 4: 36\n",
      "9 x 5: 45\n",
      "9 x 6: 54\n",
      "9 x 7: 63\n",
      "9 x 8: 72\n",
      "9 x 9: 81\n",
      "9 x 10: 90\n"
     ]
    }
   ],
   "source": [
    "# Solución\n",
    "\n",
    "for i in range(1, 10, +1):\n",
    "    print(f'''Tabla del {i}:''')\n",
    "    for j in range(1,11,+1):\n",
    "        print(f'''{i} x {j}: {i*j}''')\n",
    "\n"
   ]
  },
  {
   "cell_type": "markdown",
   "metadata": {},
   "source": [
    "### Ejercicio 5\n",
    "Calcular el factorial de un número."
   ]
  },
  {
   "cell_type": "code",
   "execution_count": 8,
   "metadata": {},
   "outputs": [
    {
     "name": "stdout",
     "output_type": "stream",
     "text": [
      "El factorial es: 24\n"
     ]
    }
   ],
   "source": [
    "# Solución\n",
    "n = int(input('Ingresa el numero:'))\n",
    "factorial = n\n",
    "\n",
    "for i in range(n,1,-1):\n",
    "    factorial = factorial * (i-1) \n",
    "print(\"El factorial es:\",factorial)"
   ]
  },
  {
   "cell_type": "markdown",
   "metadata": {},
   "source": [
    "### Ejercicio 6\n",
    "Hacer un algoritmo que nos diga si un número es primo."
   ]
  },
  {
   "cell_type": "code",
   "execution_count": 86,
   "metadata": {},
   "outputs": [
    {
     "name": "stdout",
     "output_type": "stream",
     "text": [
      "El numero 97 SI es primo\n"
     ]
    }
   ],
   "source": [
    "# Solución\n",
    "n = int(input('Ingresa el numero:'))\n",
    "aux = 0\n",
    "for i in range(n,2,-1):\n",
    "    p = n / (i-1)\n",
    "    if p.is_integer():\n",
    "        aux+=1\n",
    "    p = 0\n",
    "if aux > 0:\n",
    "    print(f'''El numero {n} NO es primo''')\n",
    "else:\n",
    "    print(f'''El numero {n} SI es primo''')"
   ]
  },
  {
   "cell_type": "markdown",
   "metadata": {},
   "source": [
    "### Ejercicio 7\n",
    "Hacer un algoritmo que nos imprima los números primos en el rango [2,N]."
   ]
  },
  {
   "cell_type": "code",
   "execution_count": 83,
   "metadata": {},
   "outputs": [
    {
     "name": "stdout",
     "output_type": "stream",
     "text": [
      "2\n",
      "3\n",
      "5\n",
      "7\n",
      "11\n",
      "13\n",
      "17\n",
      "19\n"
     ]
    }
   ],
   "source": [
    "# Solución\n",
    "n = int(input('Ingresa el numero:'))\n",
    "aux = 0\n",
    "\n",
    "for j in range(2,n,+1):\n",
    "    for i in range(j,2,-1):\n",
    "        p = j / (i-1)\n",
    "        if p.is_integer():\n",
    "            aux+=1\n",
    "        p = 0\n",
    "    if aux == 0:\n",
    "        print(j)\n",
    "    aux = 0\n",
    "\n"
   ]
  },
  {
   "cell_type": "markdown",
   "metadata": {},
   "source": [
    "### Ejercicio 8\n",
    "Hacer un algoritmo que nos permita saber cuál es el número mayor y menor, se debe ingresar sólo veinte números."
   ]
  },
  {
   "cell_type": "code",
   "execution_count": 89,
   "metadata": {},
   "outputs": [
    {
     "name": "stdout",
     "output_type": "stream",
     "text": [
      "El numero mayor es: 5345.0\n",
      "El numero menor es: 5.0\n"
     ]
    }
   ],
   "source": [
    "# Solución\n",
    "mayor = 0\n",
    "menor = 0\n",
    "for i in range(0,20,+1):\n",
    "    n = float(input(f'''Ingresa el {i+1}° numero:'''))\n",
    "    if i == 0:\n",
    "        mayor = n\n",
    "        menor = n\n",
    "    elif n > mayor:\n",
    "        mayor = n\n",
    "    else:\n",
    "        if n < menor:\n",
    "            menor = n\n",
    "\n",
    "print(f'''El numero mayor es: {mayor}\n",
    "El numero menor es: {menor}''')\n"
   ]
  },
  {
   "cell_type": "markdown",
   "metadata": {},
   "source": [
    "### Ejercicio 9\n",
    "Hacer un algoritmo para calcular la serie de Fibonacci."
   ]
  },
  {
   "cell_type": "code",
   "execution_count": null,
   "metadata": {},
   "outputs": [],
   "source": [
    "# Solución\n",
    "x1=0\n",
    "x2=1\n",
    "valor=0\n"
   ]
  },
  {
   "cell_type": "markdown",
   "metadata": {},
   "source": [
    "### Ejercicio 10\n",
    "Hacer un algoritmo para conseguir el M.C.D de un número por medio del algoritmo de Euclides."
   ]
  },
  {
   "cell_type": "code",
   "execution_count": null,
   "metadata": {},
   "outputs": [],
   "source": [
    "# Solución"
   ]
  }
 ],
 "metadata": {
  "kernelspec": {
   "display_name": "Python 3.10.5 64-bit (system)",
   "language": "python",
   "name": "python3"
  },
  "language_info": {
   "codemirror_mode": {
    "name": "ipython",
    "version": 3
   },
   "file_extension": ".py",
   "mimetype": "text/x-python",
   "name": "python",
   "nbconvert_exporter": "python",
   "pygments_lexer": "ipython3",
   "version": "3.10.5"
  },
  "orig_nbformat": 4,
  "vscode": {
   "interpreter": {
    "hash": "77abe205c72c096294b3a4a26264acecc5dbf8fb16ba6ed375b92e4d65784221"
   }
  }
 },
 "nbformat": 4,
 "nbformat_minor": 2
}
