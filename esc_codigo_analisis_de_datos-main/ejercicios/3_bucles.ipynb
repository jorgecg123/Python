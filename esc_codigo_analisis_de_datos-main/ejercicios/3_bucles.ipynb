{
 "cells": [
  {
   "cell_type": "markdown",
   "metadata": {},
   "source": [
    "# Ejercicios: Estructuras iterativas\n",
    "\n"
   ]
  },
  {
   "cell_type": "markdown",
   "metadata": {},
   "source": [
    "### Ejercicio 1\n",
    "Calcular la media de los números pares e impares, sólo se ingresará diez números."
   ]
  },
  {
   "cell_type": "code",
   "execution_count": 12,
   "metadata": {},
   "outputs": [
    {
     "name": "stdout",
     "output_type": "stream",
     "text": [
      "La media de los numero pares es: 0, \n",
      "La media de los numero impares es: 3.0\n"
     ]
    }
   ],
   "source": [
    "# Solución\n",
    "pares = 0\n",
    "impares = 0\n",
    "aux = 0\n",
    "a = 0\n",
    "b = 0\n",
    "\n",
    "for i in range(0,10,+1):\n",
    "    aux = int(input(\"Ingresa el numero\"))\n",
    "    if aux % 2 == 0:\n",
    "        pares = pares + aux;\n",
    "        a = a+1\n",
    "    else:\n",
    "        impares = impares + aux\n",
    "        b = b+1\n",
    "if impares == 0:\n",
    "    print(f'''La media de los numero pares es: {pares/a}, \n",
    "La media de los numero impares es: 0''')\n",
    "elif pares == 0:\n",
    "    print(f'''La media de los numero pares es: 0, \n",
    "La media de los numero impares es: {impares/b}''')\n",
    "else:\n",
    "    print(f'''La media de los numero pares es: {pares/a}, \n",
    "La media de los numero impares es: {impares/b}''')\n"
   ]
  },
  {
   "cell_type": "markdown",
   "metadata": {},
   "source": [
    "### Ejercicio 2\n",
    "Calcular la suma de los n primeros números."
   ]
  },
  {
   "cell_type": "code",
   "execution_count": 8,
   "metadata": {},
   "outputs": [
    {
     "name": "stdout",
     "output_type": "stream",
     "text": [
      "la suma de los numero es: 43\n"
     ]
    }
   ],
   "source": [
    "# Solución\n",
    "n = int(input(\"Ingresa a n\"))\n",
    "suma = 0\n",
    "\n",
    "for i in range(0,n,+1):\n",
    "    suma = suma + int(input(\"Ingresa el numero\"))\n",
    "print(\"la suma de los numero es:\", suma)"
   ]
  },
  {
   "cell_type": "markdown",
   "metadata": {},
   "source": [
    "### Ejercicio 3\n",
    "Se quiere saber cuál es la ciudad con la población de más personas, son tres estados  con once ciudades, hacer un algoritmo que nos permita saber eso."
   ]
  },
  {
   "cell_type": "code",
   "execution_count": 9,
   "metadata": {},
   "outputs": [
    {
     "name": "stdout",
     "output_type": "stream",
     "text": [
      "Ingresa la poblacion del estado 0\n",
      "Ingresa la poblacion del estado 1\n",
      "Ingresa la poblacion del estado 2\n",
      "La ciudad con más poblacion del estado 1 es: 65, \n",
      "La ciudad con más poblacion del estado 2 es: 45645,\n",
      "La ciudad con más poblacion del estado 3 es: 45435\n"
     ]
    }
   ],
   "source": [
    "# Solución\n",
    "ciudad1=0\n",
    "ciudad2=0\n",
    "ciudad3=0\n",
    "auxiliar1=0\n",
    "auxiliar2=0\n",
    "\n",
    "for i in range(0,3,+1):\n",
    "    print(\"Ingresa la poblacion del estado\", i)\n",
    "    for j in range(0,11,+1):\n",
    "        auxiliar1 = int(input(f'''Ingresa la poblacion de la ciudad {j}'''))\n",
    "        if auxiliar1 > auxiliar2:\n",
    "            auxiliar2 = auxiliar1\n",
    "    if i == 0:\n",
    "        ciudad1 = auxiliar2\n",
    "    elif i == 1:\n",
    "        ciudad2 = auxiliar2\n",
    "    else:\n",
    "        ciudad3 = auxiliar2\n",
    "    auxiliar2 = 0\n",
    "\n",
    "print(f'''La ciudad con más poblacion del estado 1 es: {ciudad1}, \n",
    "La ciudad con más poblacion del estado 2 es: {ciudad2},\n",
    "La ciudad con más poblacion del estado 3 es: {ciudad3}''')"
   ]
  },
  {
   "cell_type": "markdown",
   "metadata": {},
   "source": [
    "### Ejercicio 4\n",
    "Imprimir las tablas de multiplicar de los números del uno al nueve."
   ]
  },
  {
   "cell_type": "code",
   "execution_count": null,
   "metadata": {},
   "outputs": [],
   "source": [
    "# Solución"
   ]
  },
  {
   "cell_type": "markdown",
   "metadata": {},
   "source": [
    "### Ejercicio 5\n",
    "Calcular el factorial de un número."
   ]
  },
  {
   "cell_type": "code",
   "execution_count": null,
   "metadata": {},
   "outputs": [],
   "source": [
    "# Solución"
   ]
  },
  {
   "cell_type": "markdown",
   "metadata": {},
   "source": [
    "### Ejercicio 6\n",
    "Hacer un algoritmo que nos diga si un número es primo."
   ]
  },
  {
   "cell_type": "code",
   "execution_count": null,
   "metadata": {},
   "outputs": [],
   "source": [
    "# Solución"
   ]
  },
  {
   "cell_type": "markdown",
   "metadata": {},
   "source": [
    "### Ejercicio 7\n",
    "Hacer un algoritmo que nos imprima los números primos en el rango [2,N]."
   ]
  },
  {
   "cell_type": "code",
   "execution_count": null,
   "metadata": {},
   "outputs": [],
   "source": [
    "# Solución"
   ]
  },
  {
   "cell_type": "markdown",
   "metadata": {},
   "source": [
    "### Ejercicio 8\n",
    "Hacer un algoritmo que nos permita saber cuál es el número mayor y menor, se debe ingresar sólo veinte números."
   ]
  },
  {
   "cell_type": "code",
   "execution_count": null,
   "metadata": {},
   "outputs": [],
   "source": [
    "# Solución"
   ]
  },
  {
   "cell_type": "markdown",
   "metadata": {},
   "source": [
    "### Ejercicio 9\n",
    "Hacer un algoritmo para calcular la serie de Fibonacci."
   ]
  },
  {
   "cell_type": "code",
   "execution_count": null,
   "metadata": {},
   "outputs": [],
   "source": [
    "# Solución"
   ]
  },
  {
   "cell_type": "markdown",
   "metadata": {},
   "source": [
    "### Ejercicio 10\n",
    "Hacer un algoritmo para conseguir el M.C.D de un número por medio del algoritmo de Euclides."
   ]
  },
  {
   "cell_type": "code",
   "execution_count": null,
   "metadata": {},
   "outputs": [],
   "source": [
    "# Solución"
   ]
  }
 ],
 "metadata": {
  "kernelspec": {
   "display_name": "Python 3.10.5 64-bit (system)",
   "language": "python",
   "name": "python3"
  },
  "language_info": {
   "codemirror_mode": {
    "name": "ipython",
    "version": 3
   },
   "file_extension": ".py",
   "mimetype": "text/x-python",
   "name": "python",
   "nbconvert_exporter": "python",
   "pygments_lexer": "ipython3",
   "version": "3.10.5"
  },
  "orig_nbformat": 4,
  "vscode": {
   "interpreter": {
    "hash": "77abe205c72c096294b3a4a26264acecc5dbf8fb16ba6ed375b92e4d65784221"
   }
  }
 },
 "nbformat": 4,
 "nbformat_minor": 2
}
