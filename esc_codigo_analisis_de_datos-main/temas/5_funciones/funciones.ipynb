{
 "cells": [
  {
   "cell_type": "markdown",
   "metadata": {},
   "source": [
    "# Funciones"
   ]
  },
  {
   "cell_type": "markdown",
   "metadata": {},
   "source": [
    "Las funciones en python son un bloque de declaraciones que devuelven una tarea especifica.  \n",
    "La idea es juntar algunas instrucciones comunes o repetidas y crear una función para que, en lugar de escribir el mismo código una y otra vez para diferentes entradas, podamos hacer las llamadas de funciones para reutilizar código contenido en él una y otra vez."
   ]
  },
  {
   "cell_type": "markdown",
   "metadata": {},
   "source": [
    "## Crear una función"
   ]
  },
  {
   "cell_type": "markdown",
   "metadata": {},
   "source": [
    "### Declarar una función sin parámetros o argumentos\n",
    "Podemos crear una función usando la palabra clave <span style=\"color:#66D9EF\">def</span>\n",
    "<center>\n",
    "\n",
    "```python\n",
    "def indentificador():\n",
    "    instrucciones\n",
    "```"
   ]
  },
  {
   "cell_type": "code",
   "execution_count": 7,
   "metadata": {},
   "outputs": [],
   "source": [
    "# declarando la función\n",
    "def holaMundo():\n",
    "    print(\"Hola Mundo\")\n"
   ]
  },
  {
   "cell_type": "markdown",
   "metadata": {},
   "source": [
    "\n",
    "#### Ejecutando la función\n",
    "Después de crear una función, podemos llamarla usando el nombre de la función \n",
    "seguido de paréntesis que contengan los parámetros de esa función en particular.\n"
   ]
  },
  {
   "cell_type": "code",
   "execution_count": 3,
   "metadata": {},
   "outputs": [
    {
     "name": "stdout",
     "output_type": "stream",
     "text": [
      "Hola Mundo\n"
     ]
    }
   ],
   "source": [
    "holaMundo()"
   ]
  },
  {
   "cell_type": "code",
   "execution_count": 5,
   "metadata": {},
   "outputs": [
    {
     "name": "stdout",
     "output_type": "stream",
     "text": [
      "\n",
      "Con ciclo for\n",
      "Hola Mundo\n",
      "Hola Mundo\n",
      "Hola Mundo\n",
      "Hola Mundo\n",
      "Hola Mundo\n"
     ]
    }
   ],
   "source": [
    "print(\"\\nCon ciclo for\")\n",
    "for i in range(5):\n",
    "    holaMundo()"
   ]
  },
  {
   "cell_type": "code",
   "execution_count": 63,
   "metadata": {},
   "outputs": [],
   "source": [
    "from art import *\n",
    "def print_edc():\n",
    "    # rnd-xlargew hite_bubble block'\n",
    "    # Art=text2art(\"< EDC >\",font='rnd-xlargew',chr_ignore=True)\n",
    "    for i in range(5):\n",
    "        tprint(\"<EDC>\",\"random\")\n"
   ]
  },
  {
   "cell_type": "code",
   "execution_count": 64,
   "metadata": {},
   "outputs": [
    {
     "name": "stdout",
     "output_type": "stream",
     "text": [
      "  _         _     _  \n",
      " / )       ( )   ( \\ \n",
      "/ /  ___  _| | __ \\ \\\n",
      "( \\ ( o_)/ o )/ / / )\n",
      " \\_\\ \\(  \\___\\\\_\\/_/ \n",
      "                     \n",
      "\n",
      "   __  _______  _____   ______  __   \n",
      " ,' _||    ___||     \\ |      ||_ `. \n",
      "/  /  |    ___||  --  ||   ---|  \\  \\\n",
      "\\  \\_ |_______||_____/ |______| _/  /\n",
      " `.__|                         |__,' \n",
      "\n",
      "    ###                              ###     \n",
      "   ###    #######  #####     #####    ###    \n",
      "   ##     # ##     # # ##   # # ###    ###   \n",
      " ###      ######   ### ###  ###         ###  \n",
      "  ###     ####     ### ###  ###        ###   \n",
      "   ###    ####     ######   ### ###   ###    \n",
      "    ###   #######  #####      ####   ###     \n",
      "                                             \n",
      "\n",
      "      ##  ######  ######    #####    ###     \n",
      "     ##  #######  #######  #######     ##    \n",
      "    ##   ##            ##  ##   ##      ##   \n",
      "   ##    #######  ##   ##  ##            ##  \n",
      "  ##     ##       ##   ##  ##   ##      ##   \n",
      " ##      #######  #######  #######     ##    \n",
      "########  ######  ######    #####    ###     \n",
      "                                             \n",
      "\n",
      ".-. .-. .-. \n",
      "|-  |  )|   \n",
      "`-' `-' `-' \n",
      "            \n",
      "\n"
     ]
    }
   ],
   "source": [
    "print_edc()"
   ]
  },
  {
   "cell_type": "markdown",
   "metadata": {},
   "source": [
    "### Declarar una función con parametros o argumentos\n",
    "Los argumentos son los valores pasados dentro del parántesis de la función. Una función puede tener culquier número de argumentos separados por comas."
   ]
  },
  {
   "cell_type": "code",
   "execution_count": 72,
   "metadata": {},
   "outputs": [],
   "source": [
    "# Función que verifica si un número es par o impar\n",
    "def par_impar(n):\n",
    "    if n%2==0:\n",
    "        print(f\"{n} es par\")\n",
    "    else:\n",
    "        print(f\"{n} es impar\")\n",
    "\n",
    "# sumar 2 números\n",
    "def suma(x,y):\n",
    "    print(f\"{x+y}\")\n",
    "\n",
    "# area de un rectangulo\n",
    "def area(base,altura):\n",
    "    area = base * altura\n",
    "    print(f\"El area = {area}\")\n",
    "\n",
    "# segundos a minutos\n",
    "def segundos_a_minutos(seg):\n",
    "    m = seg // 60\n",
    "    s = seg % 60\n",
    "    print(f\"minutos = {m}, segundos = {s}\")\n"
   ]
  },
  {
   "cell_type": "code",
   "execution_count": 66,
   "metadata": {},
   "outputs": [
    {
     "name": "stdout",
     "output_type": "stream",
     "text": [
      "5 es impar\n"
     ]
    }
   ],
   "source": [
    "# llamamos la función\n",
    "num = int(input(\"Ingresa un número\"))\n",
    "par_impar(num)"
   ]
  },
  {
   "cell_type": "code",
   "execution_count": 67,
   "metadata": {},
   "outputs": [
    {
     "name": "stdout",
     "output_type": "stream",
     "text": [
      "14\n"
     ]
    }
   ],
   "source": [
    "# suma dos números\n",
    "n1 = int(input(\"ingresa el primer núemro\"))\n",
    "n2 = int(input(\"ingresa el segundo núemro\"))\n",
    "suma(n1,n2)"
   ]
  },
  {
   "cell_type": "code",
   "execution_count": 68,
   "metadata": {},
   "outputs": [
    {
     "name": "stdout",
     "output_type": "stream",
     "text": [
      "El area = 63\n"
     ]
    }
   ],
   "source": [
    "# area\n",
    "n1 = int(input(\"ingresa la base\"))\n",
    "n2 = int(input(\"ingresa la altura\"))\n",
    "area(n1,n2)"
   ]
  },
  {
   "cell_type": "code",
   "execution_count": 73,
   "metadata": {},
   "outputs": [
    {
     "name": "stdout",
     "output_type": "stream",
     "text": [
      "minutos = 13, segundos = 9\n"
     ]
    }
   ],
   "source": [
    "# segundos\n",
    "s = int(input(\"Ingresa los segundos\"))\n",
    "segundos_a_minutos(s)"
   ]
  },
  {
   "cell_type": "markdown",
   "metadata": {},
   "source": [
    "### Argumentos predeterminados\n",
    "Un argumento predeterminado es un parámetro que asume un valor predeterminado si no se proporciona un valor en la llamada de función para ese argumento."
   ]
  },
  {
   "cell_type": "code",
   "execution_count": 78,
   "metadata": {},
   "outputs": [],
   "source": [
    "# el apellido materno no es obligatorio\n",
    "def nombre_completo(nombre,apellido_p,apellido_m=\"\"):\n",
    "    print(f\"{nombre} {apellido_p} {apellido_m}\")\n",
    "\n",
    "def contacto(nombre,movil,tel=None,correo=None):\n",
    "    print(f\"nombre: {nombre}\")\n",
    "    print(f\"movil: {movil}\")\n",
    "    print(f\"tel: {tel}\")\n",
    "    print(f\"correo: {correo}\")\n",
    "\n",
    "def potencia(base,exponente=0):\n",
    "    print(base**exponente)"
   ]
  },
  {
   "cell_type": "code",
   "execution_count": 79,
   "metadata": {},
   "outputs": [
    {
     "name": "stdout",
     "output_type": "stream",
     "text": [
      "Alfonso Glz \n",
      "nombre: Alfosno\n",
      "movil: 5525258160\n",
      "tel: 5564253214\n",
      "correo: None\n",
      "1\n"
     ]
    }
   ],
   "source": [
    "nombre_completo(\"Alfonso\",\"Glz\")\n",
    "contacto(\"Alfosno\",5525258160,5564253214)\n",
    "potencia(125)"
   ]
  },
  {
   "cell_type": "markdown",
   "metadata": {},
   "source": [
    "### Argumentos de longitud variable\n",
    "Es posible que tengamos un número variable de argumentos porque no conocemos el tamaño de entrada. Con Python, podemos crear funciones para aceptar cualquier cantidad de argumentos.\n",
    "<center>\n",
    "\n",
    "```python\n",
    "    def identificador(*args):\n",
    "        instrucciones...\n",
    "```"
   ]
  },
  {
   "cell_type": "code",
   "execution_count": 80,
   "metadata": {},
   "outputs": [],
   "source": [
    "def suma_n_numeros(*numeros):\n",
    "    suma = 0\n",
    "    for numero in numeros:\n",
    "        suma+=numero\n",
    "    print(f\"La suma es = {suma}\")\n",
    "\n",
    "def maximo_minimo(*numeros):\n",
    "    maximo = numeros[0]\n",
    "    minimo = numeros[0]\n",
    "    for numero in numeros:\n",
    "        if numero > maximo:\n",
    "            maximo = numero\n",
    "        if numero<minimo:\n",
    "            minimo = numero\n",
    "    print(f\"Máximo = {maximo} , Mínimo = {minimo}\")"
   ]
  },
  {
   "cell_type": "code",
   "execution_count": 83,
   "metadata": {},
   "outputs": [
    {
     "name": "stdout",
     "output_type": "stream",
     "text": [
      "La suma es = 209\n",
      "Máximo = 32 , Mínimo = 1\n"
     ]
    }
   ],
   "source": [
    "\n",
    "suma_n_numeros(1,5,5,6,8,7,9,102,5,8,8,45)\n",
    "maximo_minimo(1,5,5,6,8,7,9,10,11,32,5,8)"
   ]
  },
  {
   "cell_type": "markdown",
   "metadata": {},
   "source": [
    "### Argumentos de palabra clave (diccionario)"
   ]
  },
  {
   "cell_type": "code",
   "execution_count": 85,
   "metadata": {},
   "outputs": [
    {
     "name": "stdout",
     "output_type": "stream",
     "text": [
      "nambre: Jorge\n",
      "apellido: Cruz\n",
      "calificacio: 7.36\n",
      "inscrito: False\n"
     ]
    }
   ],
   "source": [
    "def funcion(**datos):\n",
    "    for key,value in datos.items():\n",
    "        print(f\"{key}: {value}\")\n",
    "\n",
    "# funcion(nambre=\"Alfonso\",apellido=\"Glz\",calificacio=7.36,inscrito=True)\n",
    "funcion(nambre=\"Jorge\",apellido=\"Cruz\",calificacio=7.36,inscrito=False)"
   ]
  },
  {
   "cell_type": "markdown",
   "metadata": {},
   "source": []
  },
  {
   "cell_type": "markdown",
   "metadata": {},
   "source": [
    "## Funciones con retorn\n",
    "Las funciones en python tien retorno por defecto ( none ), y podemos retornar uno o mas valores despues de realizar las instrucciones de la función."
   ]
  },
  {
   "cell_type": "code",
   "execution_count": 86,
   "metadata": {},
   "outputs": [],
   "source": [
    "def saludo():\n",
    "    print(\"Hola mundo\")\n",
    "    \n",
    "def suma_n_numeros(*numeros):\n",
    "    suma = 0\n",
    "    for numero in numeros:\n",
    "        suma+=numero\n",
    "    return suma"
   ]
  },
  {
   "cell_type": "code",
   "execution_count": 87,
   "metadata": {},
   "outputs": [
    {
     "name": "stdout",
     "output_type": "stream",
     "text": [
      "Hola mundo\n",
      "\n",
      "Valor del retorno\n",
      "None\n",
      "30\n"
     ]
    }
   ],
   "source": [
    "# cuando una función retorna un valor lo podremos guardar\n",
    "v1 = saludo()\n",
    "v2 = suma_n_numeros(1,5,9,3,5,7)\n",
    "\n",
    "print(\"\\nValor del retorno\")\n",
    "print(v1)\n",
    "print(v2)"
   ]
  },
  {
   "cell_type": "markdown",
   "metadata": {},
   "source": [
    "### Retrono multiple\n",
    "Podemos devolver más de un valor, cuando usemos retorno multiple se debe tener el número de variables correspondiente al retorno, de lo contrario, se retorna una tupla.\n",
    "<center>\n",
    "\n",
    "```python\n",
    "    def identificador(args):\n",
    "        instrucciones ...\n",
    "    return r1,r2, ... ,rN\n",
    "\n",
    "    var1,var2, ... ,varN = identificador(args)\n",
    "    tupla = identificador(args) # (r1,r2, ... ,rn)\n",
    "\n",
    "\n",
    "```"
   ]
  },
  {
   "cell_type": "code",
   "execution_count": 88,
   "metadata": {},
   "outputs": [],
   "source": [
    "def maximo_minimo(*numeros):\n",
    "    maximo = numeros[0]\n",
    "    minimo = numeros[0]\n",
    "    for numero in numeros:\n",
    "        if numero > maximo:\n",
    "            maximo = numero\n",
    "        if numero<minimo:\n",
    "            minimo = numero\n",
    "    return maximo,minimo\n",
    "    \n",
    "def segundos_a_minutos(seg):\n",
    "    m = seg // 60\n",
    "    s = seg % 60\n",
    "    return m,s\n",
    "    \n",
    "def calcula_hora(horas_a,minutos_a,segundos_a,tiempo):\n",
    "    horas_s = horas_a*60*60\n",
    "    minutos_s = minutos_a*60\n",
    "    tiempo_s = horas_s+minutos_s+segundos_a\n",
    "    tiempo = tiempo+tiempo_s\n",
    "    \n",
    "    segundos_b = tiempo%60\n",
    "    minutos_aux = tiempo//60\n",
    "    minutos_b = minutos_aux%60\n",
    "    horas_aux = minutos_aux//60\n",
    "    horas_b = horas_aux%24\n",
    "    dias = horas_aux//24\n",
    "    \n",
    "    return dias,horas_b,minutos_b,segundos_b"
   ]
  },
  {
   "cell_type": "code",
   "execution_count": 89,
   "metadata": {},
   "outputs": [
    {
     "name": "stdout",
     "output_type": "stream",
     "text": [
      "maximo_minimo\n",
      "var_max = 9\n",
      "var_min = 1\n",
      "segundos_a_minutos\n",
      "minutos = 20\n",
      "segundos = 35\n",
      "hora = (14, 19, 55, 35)\n"
     ]
    }
   ],
   "source": [
    "var_max,var_min = maximo_minimo(1,2,3,5,8,8,6,8,9)\n",
    "print(\"maximo_minimo\")\n",
    "print(f\"var_max = {var_max}\")\n",
    "print(f\"var_min = {var_min}\")\n",
    "\n",
    "minutos,segundos = segundos_a_minutos(1235)\n",
    "print(\"segundos_a_minutos\")\n",
    "print(f\"minutos = {minutos}\")\n",
    "print(f\"segundos = {segundos}\")\n",
    "\n",
    "hora = calcula_hora(15,30,00,1225535) # ora = (14.0, 19.0, 55.0, 35)\n",
    "print(f\"hora = {hora}\")\n",
    "\n",
    "\n"
   ]
  },
  {
   "cell_type": "code",
   "execution_count": 100,
   "metadata": {},
   "outputs": [
    {
     "name": "stdout",
     "output_type": "stream",
     "text": [
      "**********************************************\n",
      "        BIENVENIDO a ESC       \n",
      "**********************************************\n",
      "1.- Fundamentos\n",
      "2.- Base de datos\n",
      "3.- Analisis de datos\n",
      "4.- Progrmador Jr\n",
      "5.- Salir\n",
      "**********************************************\n",
      "                ESC       \n",
      "**********************************************\n",
      "1.- Fundamentos\n",
      "2.- Base de datos\n",
      "3.- Analisis de datos\n",
      "4.- Progrmador Jr\n",
      "5.- Salir\n"
     ]
    }
   ],
   "source": [
    "def menu(titulo,*opt,**mensajes):\n",
    "    mensajes.setdefault(\"primera_vez\",True)\n",
    "    mensajes.setdefault(\"error\",\"Opcion no existe\")\n",
    "    if mensajes[\"primera_vez\"]:\n",
    "        print(\"**********************************************\")\n",
    "        print(f\"        BIENVENIDO a {titulo}       \")\n",
    "        print(\"**********************************************\")\n",
    "    else:\n",
    "        print(\"**********************************************\")\n",
    "        print(f\"                {titulo}       \")\n",
    "        print(\"**********************************************\")\n",
    "    for i in range(len(opt)):\n",
    "        print(f\"{i+1}.- {opt[i]}\")\n",
    "    opc = int(input(\"Selecciona una opción:  \"))\n",
    "    if opc>=1 and opc <=len(opt):\n",
    "        return opc\n",
    "    else:\n",
    "        print(mensajes[\"error\"])\n",
    "        return -1\n",
    "\n",
    "# menu(\"ESC\",\"Fundamentos\",\"Base de datos\", \"Analisis de datos\",\"Progrmador Jr\", primera_vez=True,error=\"Opcion no existe\")\n",
    "bandera=True\n",
    "while True:\n",
    "    opt=menu(\"ESC\",\"Fundamentos\",\"Base de datos\", \"Analisis de datos\",\"Progrmador Jr\",\"Salir\",primera_vez=bandera)\n",
    "    if opt == 5:\n",
    "        break\n",
    "    else:\n",
    "        bandera=False"
   ]
  },
  {
   "cell_type": "markdown",
   "metadata": {},
   "source": [
    "## Función main\n",
    " la función <span style=\"color:#66D9EF\">main()</span>, realmente, es un nombre para una función def establecida por convención entre los programadores de Python. Su traducción del inglés, 'principal', nos proporciona una pista clara de su razón de ser.\n",
    "<center>\n",
    "\n",
    "```python\n",
    "    # creamos la función main\n",
    "    def main():\n",
    "        instrucciones ...\n",
    "    \n",
    "    # establece una función de comienzo de ejecución\n",
    "    # __name__ : atributo especial, espacio de nombres: identifica cualquier modulo.py\n",
    "    if __name__ == \"__main__\":\n",
    "        main()\n",
    "```"
   ]
  },
  {
   "cell_type": "markdown",
   "metadata": {},
   "source": []
  }
 ],
 "metadata": {
  "kernelspec": {
   "display_name": "Python 3.10.5 64-bit (system)",
   "language": "python",
   "name": "python3"
  },
  "language_info": {
   "codemirror_mode": {
    "name": "ipython",
    "version": 3
   },
   "file_extension": ".py",
   "mimetype": "text/x-python",
   "name": "python",
   "nbconvert_exporter": "python",
   "pygments_lexer": "ipython3",
   "version": "3.10.5"
  },
  "orig_nbformat": 4,
  "vscode": {
   "interpreter": {
    "hash": "77abe205c72c096294b3a4a26264acecc5dbf8fb16ba6ed375b92e4d65784221"
   }
  }
 },
 "nbformat": 4,
 "nbformat_minor": 2
}
